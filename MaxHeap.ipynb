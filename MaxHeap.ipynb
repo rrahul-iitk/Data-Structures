{
 "cells": [
  {
   "cell_type": "code",
   "execution_count": 64,
   "metadata": {
    "collapsed": false
   },
   "outputs": [],
   "source": [
    "class MaxHeap():\n",
    "    def __init__(self,items=[]):\n",
    "        super().__init__()\n",
    "        self.heap=[0];\n",
    "        for item in items:\n",
    "            self.heap.append(item);\n",
    "            self.__floatUp(len(self.heap)-1)\n",
    "            \n",
    "    def __floatUp(self,index):\n",
    "        parent=index//2;\n",
    "        if index <= 1:\n",
    "            return\n",
    "        elif self.heap[index]>self.heap[parent]:\n",
    "            self.__swap(index,parent)\n",
    "            self.__floatUp(parent)\n",
    "    \n",
    "    def __swap(self,i,j):\n",
    "        self.heap[i], self.heap[j] = self.heap[j], self.heap[i]\n",
    "    \n",
    "    def push(self,item):\n",
    "        self.heap.append(item);\n",
    "        self.__floatUp(len(self.heap)-1)\n",
    "    \n",
    "    def peek(self):\n",
    "        if self.heap[1]:\n",
    "            return self.heap[1]\n",
    "        else: \n",
    "            return False\n",
    "    \n",
    "    def pop(self):\n",
    "        if len(self.heap)>2:\n",
    "            self.__swap(1,len(self.heap)-1)\n",
    "            max=self.heap.pop()\n",
    "            self.__bubbleDown(1)\n",
    "        \n",
    "        elif len(self.heap)==2:\n",
    "            max=self.heap.pop();\n",
    "        \n",
    "        else:\n",
    "            max = False;\n",
    "        return max\n",
    "    \n",
    "    def __bubbleDown(self, index):\n",
    "        left = index*2;\n",
    "        right = index*2 + 1;\n",
    "        largest = index;\n",
    "        if len(self.heap) > right and self.heap[right] > self.heap[largest] :\n",
    "            largest=right;\n",
    "        elif len(self.heap) > left and self.heap[left] > self.heap[largest]:\n",
    "            largest=left;\n",
    "        if largest != index:\n",
    "            self.__swap(index,largest);\n",
    "            self.__bubbleDown(largest);\n",
    "            \n",
    "    def __str__(self):\n",
    "        return str(self.heap)"
   ]
  },
  {
   "cell_type": "code",
   "execution_count": 65,
   "metadata": {
    "collapsed": false
   },
   "outputs": [
    {
     "name": "stdout",
     "output_type": "stream",
     "text": [
      "25\n",
      "[0, 24, 16, 19, 5, 12, 11, 1, 2, 3, 5]\n"
     ]
    }
   ],
   "source": [
    "m = MaxHeap([25,16,24,5,12,19,1,2,3,5,11])\n",
    "print(m.pop())\n",
    "print(m)"
   ]
  },
  {
   "cell_type": "code",
   "execution_count": null,
   "metadata": {
    "collapsed": true
   },
   "outputs": [],
   "source": []
  }
 ],
 "metadata": {
  "kernelspec": {
   "display_name": "Python 3",
   "language": "python",
   "name": "python3"
  },
  "language_info": {
   "codemirror_mode": {
    "name": "ipython",
    "version": 3
   },
   "file_extension": ".py",
   "mimetype": "text/x-python",
   "name": "python",
   "nbconvert_exporter": "python",
   "pygments_lexer": "ipython3",
   "version": "3.6.0"
  }
 },
 "nbformat": 4,
 "nbformat_minor": 2
}
